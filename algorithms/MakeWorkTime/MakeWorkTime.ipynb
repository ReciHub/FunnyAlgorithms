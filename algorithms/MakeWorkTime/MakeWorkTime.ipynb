{
 "cells": [
  {
   "cell_type": "code",
   "execution_count": 1,
   "metadata": {},
   "outputs": [
    {
     "name": "stdout",
     "output_type": "stream",
     "text": [
      "8:5\t12:4\t13:19\t17:9\n",
      "8:17\t12:6\t13:13\t17:3\n",
      "8:11\t12:3\t13:9\t17:41\n",
      "8:8\t12:12\t13:22\t17:5\n",
      "8:5\t12:2\t13:19\t17:27\n",
      "8:14\t12:6\t13:25\t17:19\n",
      "8:3\t12:8\t13:18\t17:8\n",
      "8:14\t12:12\t13:12\t17:6\n",
      "8:1\t12:12\t13:20\t17:9\n",
      "8:8\t12:9\t13:25\t17:25\n",
      "8:11\t12:14\t13:18\t17:37\n",
      "8:13\t12:1\t13:23\t17:37\n",
      "8:16\t12:6\t13:8\t17:25\n",
      "8:6\t12:1\t13:1\t17:11\n",
      "8:17\t12:4\t13:9\t17:21\n",
      "8:3\t12:6\t13:20\t17:13\n",
      "8:1\t12:1\t13:15\t17:13\n",
      "8:18\t12:9\t13:17\t17:14\n",
      "8:10\t12:20\t13:22\t17:31\n",
      "8:3\t12:11\t13:22\t17:39\n"
     ]
    }
   ],
   "source": [
    "import random\n",
    "\n",
    "numDias = 20\n",
    "hor8 = []\n",
    "hor12 = []\n",
    "hor13 = []\n",
    "hor17 = []\n",
    "\n",
    "for _ in range(0, numDias):\n",
    "    hor8.append(\"8:\" + str(random.randint(0, 19)))\n",
    "\n",
    "for _ in range(0, numDias):\n",
    "    hor12.append(\"12:\" + str(random.randint(0, 20)))\n",
    "\n",
    "for x in range(0, numDias):\n",
    "    at = int(int(hor12[x].split(\":\")[1]))\n",
    "    hor13.append(\"13:\" + str(random.randint(at, 25)))\n",
    "\n",
    "for _ in range(0, numDias):\n",
    "    hor17.append(\"17:\" + str(random.randint(0, 45)))\n",
    "\n",
    "#Prints\n",
    "for x in range(0, numDias):\n",
    "    print(\"{}\\t{}\\t{}\\t{}\".format(hor8[x], hor12[x], hor13[x], hor17[x]))"
   ]
  }
 ],
 "metadata": {
  "kernelspec": {
   "display_name": "Python 3",
   "language": "python",
   "name": "python3"
  },
  "language_info": {
   "codemirror_mode": {
    "name": "ipython",
    "version": 3
   },
   "file_extension": ".py",
   "mimetype": "text/x-python",
   "name": "python",
   "nbconvert_exporter": "python",
   "pygments_lexer": "ipython3",
   "version": "3.7.3"
  }
 },
 "nbformat": 4,
 "nbformat_minor": 2
}
